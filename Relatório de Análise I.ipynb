{
 "cells": [
  {
   "cell_type": "markdown",
   "id": "f8c2c775-b196-49f7-b128-f4263ce50ddd",
   "metadata": {},
   "source": [
    "# Relatório de Análise I"
   ]
  },
  {
   "cell_type": "markdown",
   "id": "e29f13ed-d5ea-43a9-b182-0dd673022a8c",
   "metadata": {},
   "source": [
    "Imagine que faremos um trabalho para uma empresa fictícia que deseja vender seguros para imóveis residenciais e que esta empresa tenha disponibilizado uma base de dados para analisarmos.\n",
    "\n",
    "Embora o cenário que estaremos lidando seja fictício, ele retratará bastante os procedimentos inciais adotados por um Cientista de Dados profissional.\n",
    "\n",
    "Neste primeiro relatório, nosso objetivo consite em conhecer a base de dados com a qual faremos análises posteriores. O arquivo com o qual estaremos lidando é o **aluguel.csv** que está na pasta dados."
   ]
  },
  {
   "cell_type": "markdown",
   "id": "4ea9dcdf-896b-4524-a056-d6e622ec8eec",
   "metadata": {},
   "source": [
    "## Importações"
   ]
  },
  {
   "cell_type": "markdown",
   "id": "5eae87f3-179c-4dc6-b6eb-a29dc9fa66d8",
   "metadata": {},
   "source": [
    "Na célula abaixo, encontram-se as instruções para importar as bibliotecas necessárias para nosso projeto."
   ]
  },
  {
   "cell_type": "code",
   "execution_count": 1,
   "id": "ee5ce9e8-2d59-445c-b976-c229bcd90396",
   "metadata": {},
   "outputs": [],
   "source": [
    "# Importa o pandas com o apelido usado pela comunidade\n",
    "import pandas as pd\n",
    "\n",
    "# Importa o módulo os\n",
    "import os"
   ]
  },
  {
   "cell_type": "markdown",
   "id": "9c739768-17e0-4aa1-8124-3eec27c37b1c",
   "metadata": {},
   "source": [
    "A seguir, vamos mudar o diretório atual para ser o diretório da pasta dados, na qual se encontra a base de dados que vamos explorar:"
   ]
  },
  {
   "cell_type": "code",
   "execution_count": 2,
   "id": "732bd417-c6d5-4307-8619-81641128346f",
   "metadata": {},
   "outputs": [
    {
     "name": "stdout",
     "output_type": "stream",
     "text": [
      "/home/diego/Ciência de Dados/02 - Pandas/dados\n"
     ]
    }
   ],
   "source": [
    "# Muda para o diretório especificado\n",
    "os.chdir('dados')\n",
    "\n",
    "# Exibe o diretório atual\n",
    "print(os.getcwd())"
   ]
  },
  {
   "cell_type": "markdown",
   "id": "8e294acf-fd56-419b-97e3-edd67cf57fa4",
   "metadata": {},
   "source": [
    "## Conhecendo os Dados"
   ]
  },
  {
   "cell_type": "code",
   "execution_count": 3,
   "id": "e0398b72-04da-49b2-8b87-f3fc3ac31ee6",
   "metadata": {},
   "outputs": [
    {
     "data": {
      "text/html": [
       "<div>\n",
       "<style scoped>\n",
       "    .dataframe tbody tr th:only-of-type {\n",
       "        vertical-align: middle;\n",
       "    }\n",
       "\n",
       "    .dataframe tbody tr th {\n",
       "        vertical-align: top;\n",
       "    }\n",
       "\n",
       "    .dataframe thead th {\n",
       "        text-align: right;\n",
       "    }\n",
       "</style>\n",
       "<table border=\"1\" class=\"dataframe\">\n",
       "  <thead>\n",
       "    <tr style=\"text-align: right;\">\n",
       "      <th></th>\n",
       "      <th>Tipo;Bairro;Quartos;Vagas;Suites;Area;Valor;Condominio;IPTU</th>\n",
       "    </tr>\n",
       "  </thead>\n",
       "  <tbody>\n",
       "    <tr>\n",
       "      <th>0</th>\n",
       "      <td>Quitinete;Copacabana;1;0;0;40;1700;500;60</td>\n",
       "    </tr>\n",
       "    <tr>\n",
       "      <th>1</th>\n",
       "      <td>Casa;Jardim Botânico;2;0;1;100;7000;;</td>\n",
       "    </tr>\n",
       "    <tr>\n",
       "      <th>2</th>\n",
       "      <td>Conjunto Comercial/Sala;Barra da Tijuca;0;4;0;...</td>\n",
       "    </tr>\n",
       "    <tr>\n",
       "      <th>3</th>\n",
       "      <td>Apartamento;Centro;1;0;0;15;800;390;20</td>\n",
       "    </tr>\n",
       "    <tr>\n",
       "      <th>4</th>\n",
       "      <td>Apartamento;Higienópolis;1;0;0;48;800;230;</td>\n",
       "    </tr>\n",
       "  </tbody>\n",
       "</table>\n",
       "</div>"
      ],
      "text/plain": [
       "  Tipo;Bairro;Quartos;Vagas;Suites;Area;Valor;Condominio;IPTU\n",
       "0          Quitinete;Copacabana;1;0;0;40;1700;500;60         \n",
       "1              Casa;Jardim Botânico;2;0;1;100;7000;;         \n",
       "2  Conjunto Comercial/Sala;Barra da Tijuca;0;4;0;...         \n",
       "3             Apartamento;Centro;1;0;0;15;800;390;20         \n",
       "4         Apartamento;Higienópolis;1;0;0;48;800;230;         "
      ]
     },
     "execution_count": 3,
     "metadata": {},
     "output_type": "execute_result"
    }
   ],
   "source": [
    "# Lê o arquivo CSV com os dados dos imóveis\n",
    "imoveis = pd.read_csv('aluguel.csv')\n",
    "\n",
    "# Exibe as cinco primeiras linhas do dataframe\n",
    "imoveis.head()"
   ]
  },
  {
   "cell_type": "markdown",
   "id": "e16fb6e6-58d7-4580-8fe2-34b2f22dfc99",
   "metadata": {},
   "source": [
    "Notamos que o separador dos dados neste CSV é o ponto-e-vírgula. Vamos especificá-lo na importação dos dados:"
   ]
  },
  {
   "cell_type": "code",
   "execution_count": 4,
   "id": "df44c192-54c9-454a-8d84-be291404dbc4",
   "metadata": {},
   "outputs": [],
   "source": [
    "# Lê o arquivo CSV com os dados dos imóveis, especificando o ponto-e-vírgula como separador\n",
    "imoveis = pd.read_csv('aluguel.csv', sep=';')"
   ]
  },
  {
   "cell_type": "code",
   "execution_count": 5,
   "id": "217d6041-2324-4a38-9cbe-75536e58cdaa",
   "metadata": {},
   "outputs": [
    {
     "data": {
      "text/html": [
       "<div>\n",
       "<style scoped>\n",
       "    .dataframe tbody tr th:only-of-type {\n",
       "        vertical-align: middle;\n",
       "    }\n",
       "\n",
       "    .dataframe tbody tr th {\n",
       "        vertical-align: top;\n",
       "    }\n",
       "\n",
       "    .dataframe thead th {\n",
       "        text-align: right;\n",
       "    }\n",
       "</style>\n",
       "<table border=\"1\" class=\"dataframe\">\n",
       "  <thead>\n",
       "    <tr style=\"text-align: right;\">\n",
       "      <th></th>\n",
       "      <th>Tipo</th>\n",
       "      <th>Bairro</th>\n",
       "      <th>Quartos</th>\n",
       "      <th>Vagas</th>\n",
       "      <th>Suites</th>\n",
       "      <th>Area</th>\n",
       "      <th>Valor</th>\n",
       "      <th>Condominio</th>\n",
       "      <th>IPTU</th>\n",
       "    </tr>\n",
       "  </thead>\n",
       "  <tbody>\n",
       "    <tr>\n",
       "      <th>0</th>\n",
       "      <td>Quitinete</td>\n",
       "      <td>Copacabana</td>\n",
       "      <td>1</td>\n",
       "      <td>0</td>\n",
       "      <td>0</td>\n",
       "      <td>40</td>\n",
       "      <td>1700.0</td>\n",
       "      <td>500.0</td>\n",
       "      <td>60.0</td>\n",
       "    </tr>\n",
       "    <tr>\n",
       "      <th>1</th>\n",
       "      <td>Casa</td>\n",
       "      <td>Jardim Botânico</td>\n",
       "      <td>2</td>\n",
       "      <td>0</td>\n",
       "      <td>1</td>\n",
       "      <td>100</td>\n",
       "      <td>7000.0</td>\n",
       "      <td>NaN</td>\n",
       "      <td>NaN</td>\n",
       "    </tr>\n",
       "    <tr>\n",
       "      <th>2</th>\n",
       "      <td>Conjunto Comercial/Sala</td>\n",
       "      <td>Barra da Tijuca</td>\n",
       "      <td>0</td>\n",
       "      <td>4</td>\n",
       "      <td>0</td>\n",
       "      <td>150</td>\n",
       "      <td>5200.0</td>\n",
       "      <td>4020.0</td>\n",
       "      <td>1111.0</td>\n",
       "    </tr>\n",
       "    <tr>\n",
       "      <th>3</th>\n",
       "      <td>Apartamento</td>\n",
       "      <td>Centro</td>\n",
       "      <td>1</td>\n",
       "      <td>0</td>\n",
       "      <td>0</td>\n",
       "      <td>15</td>\n",
       "      <td>800.0</td>\n",
       "      <td>390.0</td>\n",
       "      <td>20.0</td>\n",
       "    </tr>\n",
       "    <tr>\n",
       "      <th>4</th>\n",
       "      <td>Apartamento</td>\n",
       "      <td>Higienópolis</td>\n",
       "      <td>1</td>\n",
       "      <td>0</td>\n",
       "      <td>0</td>\n",
       "      <td>48</td>\n",
       "      <td>800.0</td>\n",
       "      <td>230.0</td>\n",
       "      <td>NaN</td>\n",
       "    </tr>\n",
       "  </tbody>\n",
       "</table>\n",
       "</div>"
      ],
      "text/plain": [
       "                      Tipo           Bairro  Quartos  Vagas  Suites  Area  \\\n",
       "0                Quitinete       Copacabana        1      0       0    40   \n",
       "1                     Casa  Jardim Botânico        2      0       1   100   \n",
       "2  Conjunto Comercial/Sala  Barra da Tijuca        0      4       0   150   \n",
       "3              Apartamento           Centro        1      0       0    15   \n",
       "4              Apartamento     Higienópolis        1      0       0    48   \n",
       "\n",
       "    Valor  Condominio    IPTU  \n",
       "0  1700.0       500.0    60.0  \n",
       "1  7000.0         NaN     NaN  \n",
       "2  5200.0      4020.0  1111.0  \n",
       "3   800.0       390.0    20.0  \n",
       "4   800.0       230.0     NaN  "
      ]
     },
     "execution_count": 5,
     "metadata": {},
     "output_type": "execute_result"
    }
   ],
   "source": [
    "imoveis.head()"
   ]
  },
  {
   "cell_type": "markdown",
   "id": "270a1465-d671-4653-8354-d16ce8bb2cfa",
   "metadata": {},
   "source": [
    "## Obtendo Informações sobre a Base"
   ]
  },
  {
   "cell_type": "code",
   "execution_count": 6,
   "id": "a118de27-8a18-4204-9bad-535edc83e66e",
   "metadata": {},
   "outputs": [
    {
     "name": "stdout",
     "output_type": "stream",
     "text": [
      "<class 'pandas.core.frame.DataFrame'>\n",
      "RangeIndex: 32960 entries, 0 to 32959\n",
      "Data columns (total 9 columns):\n",
      " #   Column      Non-Null Count  Dtype  \n",
      "---  ------      --------------  -----  \n",
      " 0   Tipo        32960 non-null  object \n",
      " 1   Bairro      32960 non-null  object \n",
      " 2   Quartos     32960 non-null  int64  \n",
      " 3   Vagas       32960 non-null  int64  \n",
      " 4   Suites      32960 non-null  int64  \n",
      " 5   Area        32960 non-null  int64  \n",
      " 6   Valor       32943 non-null  float64\n",
      " 7   Condominio  28867 non-null  float64\n",
      " 8   IPTU        22723 non-null  float64\n",
      "dtypes: float64(3), int64(4), object(2)\n",
      "memory usage: 2.3+ MB\n"
     ]
    }
   ],
   "source": [
    "# Exibe um resumo sobre a base\n",
    "imoveis.info()"
   ]
  },
  {
   "cell_type": "markdown",
   "id": "3061fab8-5a07-4beb-bbd8-947a3f420b78",
   "metadata": {},
   "source": [
    "Neste dataframe há 32.960 registros distribuídos ao longo de 9 colunas, sendo que as colunas **Valor**, **Condomínio** e **IPTU** apresentam valores nulos."
   ]
  },
  {
   "cell_type": "code",
   "execution_count": 7,
   "id": "0b79ceee-cc34-4c5f-8fd1-9059213d0b85",
   "metadata": {},
   "outputs": [
    {
     "data": {
      "text/plain": [
       "(32960, 9)"
      ]
     },
     "execution_count": 7,
     "metadata": {},
     "output_type": "execute_result"
    }
   ],
   "source": [
    "# Exibe as dimensões da base\n",
    "imoveis.shape"
   ]
  },
  {
   "cell_type": "code",
   "execution_count": 8,
   "id": "593e0bd0-c3c7-4005-b9fe-d81c6ab47124",
   "metadata": {},
   "outputs": [],
   "source": [
    "linhas, colunas = imoveis.shape"
   ]
  },
  {
   "cell_type": "code",
   "execution_count": 9,
   "id": "f821e098-2d09-4e7a-bd95-4e179e5615cc",
   "metadata": {},
   "outputs": [
    {
     "name": "stdout",
     "output_type": "stream",
     "text": [
      "A base apresenta 32960 registros com 9 campos.\n"
     ]
    }
   ],
   "source": [
    "# Exibe um resumo simplificado do dataframe\n",
    "print(f'A base apresenta {linhas} registros com {colunas} campos.')"
   ]
  },
  {
   "cell_type": "code",
   "execution_count": 10,
   "id": "dc7b7ec5-9985-4ec7-b0b3-ffbf65c5affa",
   "metadata": {},
   "outputs": [
    {
     "data": {
      "text/plain": [
       "Tipo           object\n",
       "Bairro         object\n",
       "Quartos         int64\n",
       "Vagas           int64\n",
       "Suites          int64\n",
       "Area            int64\n",
       "Valor         float64\n",
       "Condominio    float64\n",
       "IPTU          float64\n",
       "dtype: object"
      ]
     },
     "execution_count": 10,
     "metadata": {},
     "output_type": "execute_result"
    }
   ],
   "source": [
    "# Exibe os tipos de cada coluna\n",
    "imoveis.dtypes"
   ]
  },
  {
   "cell_type": "markdown",
   "id": "95eae669-1b4a-4d4f-bdb1-5d787b404270",
   "metadata": {},
   "source": [
    "Desejamos criar um dataframe para armazenar o tipo de cada uma das variáveis de nosso dataframe `imoveis`:"
   ]
  },
  {
   "cell_type": "code",
   "execution_count": 11,
   "id": "ccc3c030",
   "metadata": {},
   "outputs": [
    {
     "data": {
      "text/html": [
       "<div>\n",
       "<style scoped>\n",
       "    .dataframe tbody tr th:only-of-type {\n",
       "        vertical-align: middle;\n",
       "    }\n",
       "\n",
       "    .dataframe tbody tr th {\n",
       "        vertical-align: top;\n",
       "    }\n",
       "\n",
       "    .dataframe thead th {\n",
       "        text-align: right;\n",
       "    }\n",
       "</style>\n",
       "<table border=\"1\" class=\"dataframe\">\n",
       "  <thead>\n",
       "    <tr style=\"text-align: right;\">\n",
       "      <th></th>\n",
       "      <th>Campo</th>\n",
       "      <th>Tipo de Dado</th>\n",
       "    </tr>\n",
       "  </thead>\n",
       "  <tbody>\n",
       "    <tr>\n",
       "      <th>0</th>\n",
       "      <td>Tipo</td>\n",
       "      <td>object</td>\n",
       "    </tr>\n",
       "    <tr>\n",
       "      <th>1</th>\n",
       "      <td>Bairro</td>\n",
       "      <td>object</td>\n",
       "    </tr>\n",
       "    <tr>\n",
       "      <th>2</th>\n",
       "      <td>Quartos</td>\n",
       "      <td>int64</td>\n",
       "    </tr>\n",
       "    <tr>\n",
       "      <th>3</th>\n",
       "      <td>Vagas</td>\n",
       "      <td>int64</td>\n",
       "    </tr>\n",
       "    <tr>\n",
       "      <th>4</th>\n",
       "      <td>Suites</td>\n",
       "      <td>int64</td>\n",
       "    </tr>\n",
       "    <tr>\n",
       "      <th>5</th>\n",
       "      <td>Area</td>\n",
       "      <td>int64</td>\n",
       "    </tr>\n",
       "    <tr>\n",
       "      <th>6</th>\n",
       "      <td>Valor</td>\n",
       "      <td>float64</td>\n",
       "    </tr>\n",
       "    <tr>\n",
       "      <th>7</th>\n",
       "      <td>Condominio</td>\n",
       "      <td>float64</td>\n",
       "    </tr>\n",
       "    <tr>\n",
       "      <th>8</th>\n",
       "      <td>IPTU</td>\n",
       "      <td>float64</td>\n",
       "    </tr>\n",
       "  </tbody>\n",
       "</table>\n",
       "</div>"
      ],
      "text/plain": [
       "        Campo Tipo de Dado\n",
       "0        Tipo       object\n",
       "1      Bairro       object\n",
       "2     Quartos        int64\n",
       "3       Vagas        int64\n",
       "4      Suites        int64\n",
       "5        Area        int64\n",
       "6       Valor      float64\n",
       "7  Condominio      float64\n",
       "8        IPTU      float64"
      ]
     },
     "execution_count": 11,
     "metadata": {},
     "output_type": "execute_result"
    }
   ],
   "source": [
    "# Cria um dataframe, resetando seus índices\n",
    "tipos_dos_campos = pd.DataFrame(data=imoveis.dtypes).reset_index()\n",
    "\n",
    "# Renomeia as colunas do dataframe\n",
    "tipos_dos_campos.columns = ['Campo', 'Tipo de Dado']\n",
    "\n",
    "# Exibe o dataframe\n",
    "tipos_dos_campos"
   ]
  }
 ],
 "metadata": {
  "kernelspec": {
   "display_name": "Python 3 (ipykernel)",
   "language": "python",
   "name": "python3"
  },
  "language_info": {
   "codemirror_mode": {
    "name": "ipython",
    "version": 3
   },
   "file_extension": ".py",
   "mimetype": "text/x-python",
   "name": "python",
   "nbconvert_exporter": "python",
   "pygments_lexer": "ipython3",
   "version": "3.9.13"
  }
 },
 "nbformat": 4,
 "nbformat_minor": 5
}
