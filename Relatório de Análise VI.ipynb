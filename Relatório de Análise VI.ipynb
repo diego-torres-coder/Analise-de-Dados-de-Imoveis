{
 "cells": [
  {
   "attachments": {},
   "cell_type": "markdown",
   "metadata": {},
   "source": [
    "# Relatório de Análise VI"
   ]
  },
  {
   "attachments": {},
   "cell_type": "markdown",
   "metadata": {},
   "source": [
    "Neste sexto relatório, nosso objetivo consistirá em criar novos campos em nossa base de dados a fim de adicionar valor a nossas análises."
   ]
  },
  {
   "attachments": {},
   "cell_type": "markdown",
   "metadata": {},
   "source": [
    "## Criando Novos Campos"
   ]
  },
  {
   "cell_type": "code",
   "execution_count": null,
   "metadata": {},
   "outputs": [],
   "source": [
    "# Importa o pandas com o apelido pd\n",
    "import pandas as pd\n",
    "\n",
    "# Importa o módulo os\n",
    "import os\n",
    "\n",
    "# Muda para o diretório com os dados\n",
    "os.chdir('dados')\n",
    "\n",
    "# Importa o CSV com os dados de imóveis residenciais\n",
    "imoveis = pd.read_csv('imoveis-residenciais.csv', sep=';')\n",
    "\n",
    "# Exibe as cinco primeiras linhas do dataframe\n",
    "imoveis.head()"
   ]
  }
 ],
 "metadata": {
  "language_info": {
   "name": "python"
  },
  "orig_nbformat": 4
 },
 "nbformat": 4,
 "nbformat_minor": 2
}
